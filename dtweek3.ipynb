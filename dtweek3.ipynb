{
 "cells": [
  {
   "cell_type": "code",
   "execution_count": null,
   "id": "fa010565",
   "metadata": {},
   "outputs": [
    {
     "name": "stdout",
     "output_type": "stream",
     "text": [
      "4\n"
     ]
    }
   ],
   "source": [
    "text = \"โบ๊ทยังไม่ลืมน้ำหวานเพราะติดใจเเต่ไม่ยอมรับ\"\n",
    "position = text.find(\"น้ำหวาน\")\n",
    "print(position)"
   ]
  },
  {
   "cell_type": "code",
   "execution_count": 6,
   "id": "6a54f3e0",
   "metadata": {},
   "outputs": [
    {
     "name": "stdout",
     "output_type": "stream",
     "text": [
      "['โบ๊ทยังยังเเอบชอบน้ำหวานเเต่ก็ชอบวิวมากกว่าอยู่ดี']\n"
     ]
    }
   ],
   "source": [
    "text = \"โบ๊ทยังยังเเอบชอบน้ำหวานเเต่ก็ชอบวิวมากกว่าอยู่ดี\"\n",
    "words = text.split()\n",
    "print(words)"
   ]
  },
  {
   "cell_type": "code",
   "execution_count": 7,
   "id": "6e72c49a",
   "metadata": {},
   "outputs": [
    {
     "name": "stdout",
     "output_type": "stream",
     "text": [
      "['โบ๊ทยังยังเเอบชอบ', ' มีน เเต่ก็ชอบ ข้าวฟ่าง', ' มากกว่าอยู่ดี']\n"
     ]
    }
   ],
   "source": [
    "text = \"โบ๊ทยังยังเเอบชอบ. มีน เเต่ก็ชอบ ข้าวฟ่าง. มากกว่าอยู่ดี\"\n",
    "words = text.split(\".\")\n",
    "print(words)"
   ]
  },
  {
   "cell_type": "code",
   "execution_count": 34,
   "id": "55b738d9",
   "metadata": {},
   "outputs": [
    {
     "name": "stdout",
     "output_type": "stream",
     "text": [
      "หมาวิ่งไล่โบ๊ท โบ๊ทวิ่งหนีหมา หมากระโดดสองขา โบ๊ทตกใจมาก หมากัดหำโบ๊ท\n",
      "DOGวิ่งไล่โบ๊ท โบ๊ทวิ่งหนีDOG DOGกระโดดสองขา โบ๊ทตกใจมาก DOGกัดหำโบ๊ท\n"
     ]
    }
   ],
   "source": [
    "#replace Finction\n",
    "text = \"หมาวิ่งไล่โบ๊ท โบ๊ทวิ่งหนีหมา หมากระโดดสองขา โบ๊ทตกใจมาก หมากัดหำโบ๊ท\"\n",
    "new_text = text.replace(\"หมา\", \"DOG\")\n",
    "print(text)\n",
    "print(new_text)"
   ]
  },
  {
   "cell_type": "code",
   "execution_count": 24,
   "id": "1c3ca311",
   "metadata": {},
   "outputs": [
    {
     "name": "stdout",
     "output_type": "stream",
     "text": [
      "12\n",
      "3\n",
      "<class 'str'>\n",
      "<class 'list'>\n",
      "<class 'set'>\n"
     ]
    }
   ],
   "source": [
    "#len Finction\n",
    "text = \"ข้าวฟ่าง มีน\"\n",
    "print(len(text))\n",
    "\n",
    "words1 = [\"ข้าวฟ่าง\", \"มีน\", \"น้ำหวาน\", \"วิว\"]\n",
    "words2 = {\"ข้าวฟ่าง\", \"มีน\", \"น้ำหวาน\", \"วิว\"}\n",
    "print(len(words))\n",
    "\n",
    "print(type(text))\n",
    "print(type(words1))\n",
    "print(type(words2))"
   ]
  },
  {
   "cell_type": "code",
   "execution_count": 27,
   "id": "0aef0009",
   "metadata": {},
   "outputs": [
    {
     "name": "stdout",
     "output_type": "stream",
     "text": [
      "you never walk alone\n"
     ]
    }
   ],
   "source": [
    "#lower\n",
    "text = \"You Never Walk Alone\"\n",
    "print(text.lower())\n"
   ]
  },
  {
   "cell_type": "code",
   "execution_count": 28,
   "id": "2f685b80",
   "metadata": {},
   "outputs": [
    {
     "name": "stdout",
     "output_type": "stream",
     "text": [
      "YOU NEVER WALK ALONE\n"
     ]
    }
   ],
   "source": [
    "#upper\n",
    "text = \"You Never Walk Alone\"\n",
    "print(text.upper())"
   ]
  },
  {
   "cell_type": "code",
   "execution_count": 32,
   "id": "9d0753ce",
   "metadata": {},
   "outputs": [
    {
     "name": "stdout",
     "output_type": "stream",
     "text": [
      "เก่า =>  69\n",
      "ใหม่ =>  68\n"
     ]
    }
   ],
   "source": [
    "#strip\n",
    "text = \" >>>> วันนี้วันดี ที่โบ๊ทกับข้าวฟ่าง ได้มาคุยกัน ณ ร้านปั้นคำหอม !!!!\"\n",
    "new_text = text.strip()\n",
    "print(\"เก่า => \", len(text))\n",
    "print(\"ใหม่ => \", len(new_text))\n"
   ]
  },
  {
   "cell_type": "code",
   "execution_count": 35,
   "id": "3878b206",
   "metadata": {},
   "outputs": [
    {
     "name": "stdout",
     "output_type": "stream",
     "text": [
      "นกบิน นกเดิน นกกระโดด\n",
      "21\n",
      "เดิน\n",
      "1\n",
      "เเสดงตำเเหน่งของคำว่า'เดิน':[8]\n",
      "ตัวอักษรแรกของข้อความคือ: น\n",
      "ตัวอักษรสุดท้ายของข้อความคือ: ด\n"
     ]
    }
   ],
   "source": [
    "#input\n",
    "text = input(\"Enter your text :\")\n",
    "print(text)\n",
    "print(len(text))\n",
    "cou = input(\"คำที่ต้องการค้นหาจากข้อมูลที่กอกด้านบน : \")\n",
    "print(cou)\n",
    "poli = text.count(cou)\n",
    "print(poli)\n",
    "\n",
    "positions = []\n",
    "index = text.find(cou)\n",
    "while index != -1 :\n",
    "    positions.append(index)\n",
    "    index = text.find(cou, index + 1)\n",
    "    \n",
    "print(f\"เเสดงตำเเหน่งของคำว่า'{cou}':{positions}\")\n",
    "    \n",
    "first_char = text[0].lower()\n",
    "last_char = text[-1].lower()\n",
    "\n",
    "words = text.split()\n",
    "\n",
    "start_words = [word for word in words if word.lower().startswith(first_char)]\n",
    "\n",
    "end_words = [word for word in words if word.lower().endswith(last_char)]\n",
    "\n",
    "\n",
    "print(\"ตัวอักษรแรกของข้อความคือ:\", first_char)\n",
    "\n",
    "print(\"ตัวอักษรสุดท้ายของข้อความคือ:\", last_char)"
   ]
  }
 ],
 "metadata": {
  "kernelspec": {
   "display_name": "Python 3",
   "language": "python",
   "name": "python3"
  },
  "language_info": {
   "codemirror_mode": {
    "name": "ipython",
    "version": 3
   },
   "file_extension": ".py",
   "mimetype": "text/x-python",
   "name": "python",
   "nbconvert_exporter": "python",
   "pygments_lexer": "ipython3",
   "version": "3.12.4"
  }
 },
 "nbformat": 4,
 "nbformat_minor": 5
}
